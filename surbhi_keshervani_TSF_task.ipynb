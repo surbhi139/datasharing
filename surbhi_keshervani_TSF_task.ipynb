{
  "nbformat": 4,
  "nbformat_minor": 0,
  "metadata": {
    "colab": {
      "name": "surbhi_keshervani_TSF_task.ipynb",
      "provenance": [],
      "collapsed_sections": [],
      "authorship_tag": "ABX9TyNCUQlgaf7tjwXLO9EfsEuY",
      "include_colab_link": true
    },
    "kernelspec": {
      "name": "python3",
      "display_name": "Python 3"
    },
    "language_info": {
      "name": "python"
    }
  },
  "cells": [
    {
      "cell_type": "markdown",
      "metadata": {
        "id": "view-in-github",
        "colab_type": "text"
      },
      "source": [
        "<a href=\"https://colab.research.google.com/github/surbhi139/datasharing/blob/master/surbhi_keshervani_TSF_task.ipynb\" target=\"_parent\"><img src=\"https://colab.research.google.com/assets/colab-badge.svg\" alt=\"Open In Colab\"/></a>"
      ]
    },
    {
      "cell_type": "markdown",
      "metadata": {
        "id": "CcJm6NEz5E3f"
      },
      "source": [
        "IMORTING THE LIBRARIES"
      ]
    },
    {
      "cell_type": "code",
      "metadata": {
        "id": "d_K0Wx_X-AGK"
      },
      "source": [
        "import pandas as pd\n",
        "import numpy as np\n",
        "import matplotlib.pyplot as plt\n",
        "%matplotlib inline"
      ],
      "execution_count": 99,
      "outputs": []
    },
    {
      "cell_type": "markdown",
      "metadata": {
        "id": "UYXqN09k5Dmr"
      },
      "source": [
        "IMPORTING THE DATASET"
      ]
    },
    {
      "cell_type": "code",
      "metadata": {
        "colab": {
          "base_uri": "https://localhost:8080/",
          "height": 221
        },
        "id": "exxrCZJS-LeT",
        "outputId": "e1a4e4ee-3bb8-4958-bad7-f399f18c79fc"
      },
      "source": [
        "data = pd.read_csv('http://bit.ly/w-data')\n",
        "print(\"data importted\")\n",
        "data.head(5)"
      ],
      "execution_count": 100,
      "outputs": [
        {
          "output_type": "stream",
          "text": [
            "data importted\n"
          ],
          "name": "stdout"
        },
        {
          "output_type": "execute_result",
          "data": {
            "text/html": [
              "<div>\n",
              "<style scoped>\n",
              "    .dataframe tbody tr th:only-of-type {\n",
              "        vertical-align: middle;\n",
              "    }\n",
              "\n",
              "    .dataframe tbody tr th {\n",
              "        vertical-align: top;\n",
              "    }\n",
              "\n",
              "    .dataframe thead th {\n",
              "        text-align: right;\n",
              "    }\n",
              "</style>\n",
              "<table border=\"1\" class=\"dataframe\">\n",
              "  <thead>\n",
              "    <tr style=\"text-align: right;\">\n",
              "      <th></th>\n",
              "      <th>Hours</th>\n",
              "      <th>Scores</th>\n",
              "    </tr>\n",
              "  </thead>\n",
              "  <tbody>\n",
              "    <tr>\n",
              "      <th>0</th>\n",
              "      <td>2.5</td>\n",
              "      <td>21</td>\n",
              "    </tr>\n",
              "    <tr>\n",
              "      <th>1</th>\n",
              "      <td>5.1</td>\n",
              "      <td>47</td>\n",
              "    </tr>\n",
              "    <tr>\n",
              "      <th>2</th>\n",
              "      <td>3.2</td>\n",
              "      <td>27</td>\n",
              "    </tr>\n",
              "    <tr>\n",
              "      <th>3</th>\n",
              "      <td>8.5</td>\n",
              "      <td>75</td>\n",
              "    </tr>\n",
              "    <tr>\n",
              "      <th>4</th>\n",
              "      <td>3.5</td>\n",
              "      <td>30</td>\n",
              "    </tr>\n",
              "  </tbody>\n",
              "</table>\n",
              "</div>"
            ],
            "text/plain": [
              "   Hours  Scores\n",
              "0    2.5      21\n",
              "1    5.1      47\n",
              "2    3.2      27\n",
              "3    8.5      75\n",
              "4    3.5      30"
            ]
          },
          "metadata": {
            "tags": []
          },
          "execution_count": 100
        }
      ]
    },
    {
      "cell_type": "markdown",
      "metadata": {
        "id": "UDjvBGR35IxW"
      },
      "source": [
        "PLOTTING THE DISTRIBUTION OF SCORES"
      ]
    },
    {
      "cell_type": "code",
      "metadata": {
        "colab": {
          "base_uri": "https://localhost:8080/",
          "height": 295
        },
        "id": "e-jMAtuE5JB0",
        "outputId": "6ffbb2f9-935b-4110-d0f4-214cb9775e10"
      },
      "source": [
        "data.plot(x = 'Hours', y = 'Scores', style = 'o')\n",
        "plt.title(\"hours versus percentage\")\n",
        "plt.xlabel(\"hours studied\")\n",
        "plt.ylabel(\"percentage scores\")\n",
        "plt.show()"
      ],
      "execution_count": 101,
      "outputs": [
        {
          "output_type": "display_data",
          "data": {
            "image/png": "[encoded data removed]",
            "text/plain": [
              "<Figure size 432x288 with 1 Axes>"
            ]
          },
          "metadata": {
            "tags": [],
            "needs_background": "light"
          }
        }
      ]
    },
    {
      "cell_type": "markdown",
      "metadata": {
        "id": "Kt62PJlp5UaO"
      },
      "source": [
        "PREPARING THE DATA"
      ]
    },
    {
      "cell_type": "code",
      "metadata": {
        "id": "wN5nfzyW5Upy"
      },
      "source": [
        "x=data.iloc[:, :-1].values\n",
        "y=data.iloc[:, 1].values"
      ],
      "execution_count": 91,
      "outputs": []
    },
    {
      "cell_type": "markdown",
      "metadata": {
        "id": "NsbE5MzM5eLK"
      },
      "source": [
        "SPLITTING THE DATA INTO TRAINING SET AND TEST SET"
      ]
    },
    {
      "cell_type": "code",
      "metadata": {
        "colab": {
          "base_uri": "https://localhost:8080/"
        },
        "id": "AfNZBRvq_yuc",
        "outputId": "848bd67a-0866-468a-fdd2-7b95c47cf837"
      },
      "source": [
        "from sklearn.model_selection import train_test_split\n",
        "x_train, x_test, y_train, y_test = train_test_split(x, y, test_size = 0.2, random_state = 1)\n",
        "print(x_train)"
      ],
      "execution_count": 92,
      "outputs": [
        {
          "output_type": "stream",
          "text": [
            "[[7.7]\n",
            " [6.1]\n",
            " [7.4]\n",
            " [3.5]\n",
            " [3.2]\n",
            " [2.7]\n",
            " [9.2]\n",
            " [5.5]\n",
            " [3.8]\n",
            " [5.1]\n",
            " [2.5]\n",
            " [2.5]\n",
            " [8.9]\n",
            " [7.8]\n",
            " [6.9]\n",
            " [2.7]\n",
            " [8.3]\n",
            " [4.5]\n",
            " [5.9]\n",
            " [1.5]]\n"
          ],
          "name": "stdout"
        }
      ]
    },
    {
      "cell_type": "markdown",
      "metadata": {
        "id": "Tb882w3z_oi3"
      },
      "source": [
        "TRAINING THE ALGORITHM USING SIMPLE LINEAR REGRESSION"
      ]
    },
    {
      "cell_type": "code",
      "metadata": {
        "colab": {
          "base_uri": "https://localhost:8080/"
        },
        "id": "DwPzD8uu_pUl",
        "outputId": "0d2c9e8c-dcb4-4473-806a-23afcd7c91f3"
      },
      "source": [
        "from sklearn.linear_model import LinearRegression\n",
        "reg = LinearRegression()\n",
        "reg.fit(x_train, y_train)\n",
        "print(\"training complete\")"
      ],
      "execution_count": 102,
      "outputs": [
        {
          "output_type": "stream",
          "text": [
            "training complete\n"
          ],
          "name": "stdout"
        }
      ]
    },
    {
      "cell_type": "markdown",
      "metadata": {
        "id": "YRtxj4vV5ml-"
      },
      "source": [
        "PREDICTING THE VALUE"
      ]
    },
    {
      "cell_type": "code",
      "metadata": {
        "id": "nomc3oOsAd_S",
        "colab": {
          "base_uri": "https://localhost:8080/"
        },
        "outputId": "66fc0c82-7428-4098-a54a-670606789e13"
      },
      "source": [
        "y_pred = reg.predict(x_test)\n",
        "print(y_pred)"
      ],
      "execution_count": 103,
      "outputs": [
        {
          "output_type": "stream",
          "text": [
            "[ 9.97026179 32.98470004 18.33914843 87.38246316 48.67636248]\n"
          ],
          "name": "stdout"
        }
      ]
    },
    {
      "cell_type": "markdown",
      "metadata": {
        "id": "VNeVuByi79H-"
      },
      "source": [
        "COMPARING ACTUAL VS PREDICTED VALUE"
      ]
    },
    {
      "cell_type": "code",
      "metadata": {
        "colab": {
          "base_uri": "https://localhost:8080/"
        },
        "id": "dEJqcsrw79Yb",
        "outputId": "bb6d3afb-0c6c-4f86-8326-afcbe22f01df"
      },
      "source": [
        "df = pd.DataFrame({'actual': y_test, 'predicted' : y_pred})\n",
        "print(df)"
      ],
      "execution_count": 105,
      "outputs": [
        {
          "output_type": "stream",
          "text": [
            "   actual  predicted\n",
            "0      17   9.970262\n",
            "1      42  32.984700\n",
            "2      24  18.339148\n",
            "3      75  87.382463\n",
            "4      54  48.676362\n"
          ],
          "name": "stdout"
        }
      ]
    },
    {
      "cell_type": "markdown",
      "metadata": {
        "id": "RFtAzccq8z0P"
      },
      "source": [
        "TO MAKE MY OWN PREDICTION"
      ]
    },
    {
      "cell_type": "code",
      "metadata": {
        "colab": {
          "base_uri": "https://localhost:8080/"
        },
        "id": "j95AXu1g80Cb",
        "outputId": "1392fae0-3dfc-4d49-c75a-4a538b787d90"
      },
      "source": [
        "hours = 9.25\n",
        "test = np.array([hours])\n",
        "test= test.reshape(-1,1)\n",
        "own_pred = reg.predict(test)\n",
        "print(\"no of hours ={}\".format(hours))\n",
        "print(\"predicted score = {}\".format(own_pred))"
      ],
      "execution_count": 106,
      "outputs": [
        {
          "output_type": "stream",
          "text": [
            "no of hours =9.25\n",
            "predicted score = [95.22829438]\n"
          ],
          "name": "stdout"
        }
      ]
    },
    {
      "cell_type": "markdown",
      "metadata": {
        "id": "tMuMxgncB3aZ"
      },
      "source": [
        "PLOTTING THE REGRESSION LINE"
      ]
    },
    {
      "cell_type": "code",
      "metadata": {
        "colab": {
          "base_uri": "https://localhost:8080/",
          "height": 295
        },
        "id": "JPIQ2kojB3m0",
        "outputId": "7b154fad-e788-4829-ee72-dc5fc93d9e42"
      },
      "source": [
        "#plotting the regression line\n",
        "line = reg.coef_*x + reg.intercept_\n",
        "#plotting the test set\n",
        "plt.scatter(x, y, color = 'red')\n",
        "plt.plot(x, line, color = 'blue')\n",
        "plt.title('hours versus scores')\n",
        "plt.xlabel('hours studied')\n",
        "plt.ylabel('percentage of  scores')\n",
        "plt.show()"
      ],
      "execution_count": 107,
      "outputs": [
        {
          "output_type": "display_data",
          "data": {
            "image/png": "[encoded data removed]",
            "text/plain": [
              "<Figure size 432x288 with 1 Axes>"
            ]
          },
          "metadata": {
            "tags": [],
            "needs_background": "light"
          }
        }
      ]
    },
    {
      "cell_type": "markdown",
      "metadata": {
        "id": "giXbOzQpFFsd"
      },
      "source": [
        "EVALUATIONG THE MODEL"
      ]
    },
    {
      "cell_type": "code",
      "metadata": {
        "colab": {
          "base_uri": "https://localhost:8080/"
        },
        "id": "-v2AawaFFF6H",
        "outputId": "6d8140ea-f424-4ee9-e5c7-1257fb6e6c8d"
      },
      "source": [
        "from sklearn import metrics\n",
        "print('mean absolute error:', metrics.mean_absolute_error(y_test,y_pred))\n",
        "print('mean squared error:', metrics.mean_squared_error(y_test,y_pred))"
      ],
      "execution_count": 108,
      "outputs": [
        {
          "output_type": "stream",
          "text": [
            "mean absolute error: 7.882398086270432\n",
            "mean squared error: 68.88092074277635\n"
          ],
          "name": "stdout"
        }
      ]
    }
  ]
}